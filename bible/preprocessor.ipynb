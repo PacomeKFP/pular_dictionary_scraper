{
 "cells": [
  {
   "attachments": {},
   "cell_type": "markdown",
   "metadata": {},
   "source": [
    "> `Text preprocessing script`\n",
    "> ===\n"
   ]
  },
  {
   "attachments": {},
   "cell_type": "markdown",
   "metadata": {},
   "source": [
    "Importing packages for it\n"
   ]
  },
  {
   "cell_type": "code",
   "execution_count": 1,
   "metadata": {},
   "outputs": [],
   "source": [
    "import string\n",
    "import os\n",
    "import json"
   ]
  },
  {
   "attachments": {},
   "cell_type": "markdown",
   "metadata": {},
   "source": [
    ">## Etapes que nous suivrons \n",
    ">- Choisir une langue pour la quelle nous souhaitons netoyer les données\n",
    ">- Charger les ID de chapitres et livres de cette langue\n",
    ">- parcourir les dossiers des livres et ouvrir les dossiers de chaque livre et les preprocess\n",
    ">-  ..."
   ]
  },
  {
   "attachments": {},
   "cell_type": "markdown",
   "metadata": {},
   "source": [
    "Defining constants of the script\n"
   ]
  },
  {
   "cell_type": "code",
   "execution_count": 16,
   "metadata": {},
   "outputs": [],
   "source": [
    "LANG = 63\n",
    "\n",
    "\n",
    "\n",
    "# root folder for not processed data\n",
    "DATA_IN_PATH = os.path.join(os.getcwd(), f'data/{LANG}')\n",
    "\n",
    "# The file where we store the not scrapped chapters\n",
    "NOT_SCRAPED_CHAPTERS = 'not_scraped_chapters.json'\n",
    "\n",
    "# root folder for processed data\n",
    "DATA_OUT_PATH = os.path.join(os.getcwd(), f'preprocessed_data/{LANG}')\n",
    "if not os.path.exists(DATA_OUT_PATH):\n",
    "    os.makedirs(DATA_OUT_PATH)\n",
    "\n",
    "#  The json file where we will store all the words of the language as a list\n",
    "VOCABULARY_FILE_PATH = os.path.join(DATA_OUT_PATH,'meta/vocabulary.json')\n",
    "\n",
    "\n",
    "# Sessions path\n",
    "PREPROCESSING_SESSIONS_PATH = os.path.join(os.getcwd(),'preprocessing_sessions.json')\n",
    "if not os.path.isfile(PREPROCESSING_SESSIONS_PATH):\n",
    "    with open(PREPROCESSING_SESSIONS_PATH, 'w', encoding='utf-8') as sessions_file:\n",
    "        sessions_file.write('{}')\n",
    "\n",
    "SCRAPING_SESSIONS_PATH = os.path.join(os.getcwd(),'sessions.json')\n",
    "CHAPTERS_FILE_PATH = os.path.join(os.getcwd(), f'utils/chapitres_id/{LANG}.json')\n",
    "\n"
   ]
  },
  {
   "attachments": {},
   "cell_type": "markdown",
   "metadata": {},
   "source": [
    "Defining functions tools"
   ]
  },
  {
   "cell_type": "code",
   "execution_count": 21,
   "metadata": {},
   "outputs": [],
   "source": [
    "\n",
    "# dossier dans lequel on va mettre les dossiers chaque chapitre pour cette langue\n",
    "def get_lang_folder_path(root:str = DATA_OUT_PATH) -> str:\n",
    "    path = os.path.join(os.getcwd(), root)\n",
    "    if not os.path.exists(path):\n",
    "        os.makedirs(path)\n",
    "    return path\n",
    "\n",
    "\n",
    "# dossier dans lequel on va mettre les fichiers txt pour chaqe chap du livre livre\n",
    "def get_book_folder_path_for_lang(book: str, root:str = DATA_OUT_PATH) -> str:\n",
    "    path = os.path.join(\n",
    "        os.getcwd(), f\"{root}/{book}\").replace('\\\\', '/')\n",
    "    if not os.path.exists(path):\n",
    "        print(f'Path to saves folder created : {path} ')\n",
    "        os.makedirs(path)\n",
    "    return path\n",
    "\n",
    "\n",
    "def update_json_file(data,  file_path: str, type: type = list, lang: int = LANG):\n",
    "    def write_default_content(): return file.write(\n",
    "        '[]') if type == list else file.write('{}')\n",
    "    path = os.path.join(os.getcwd(), file_path)\n",
    "    # initializing the file if not exists\n",
    "    if not os.path.exists(path):\n",
    "        with open(path, 'w', encoding='utf-8') as file:\n",
    "            write_default_content()\n",
    "            # getting the data in the file and updating it\n",
    "    with open(path, 'r+', encoding='utf-8') as file:\n",
    "        if file.read().strip() == '':\n",
    "            write_default_content()\n",
    "        file_data = json.load(file)\n",
    "        if type == list:  # si nous sommes dans un liste\n",
    "            file_data.append(data)\n",
    "        elif type == dict[list]:\n",
    "            file_data[f'{lang}'].append(data)\n",
    "        else:  # si c'est un dictionnaire plutot\n",
    "            file_data[f'{lang}'] = data\n",
    "    # write the final data in the file\n",
    "    with open(path, 'w', encoding='utf-8') as file:\n",
    "        json.dump(file_data, file, indent=4)\n"
   ]
  },
  {
   "cell_type": "code",
   "execution_count": 20,
   "metadata": {},
   "outputs": [
    {
     "data": {
      "text/plain": [
       "''"
      ]
     },
     "execution_count": 20,
     "metadata": {},
     "output_type": "execute_result"
    }
   ],
   "source": [
    "with open(NOT_SCRAPED_CHAPTERS, 'r', encoding='utf-8') as file:\n",
    "    data = file.read().strip()\n",
    "\n",
    "data"
   ]
  },
  {
   "cell_type": "code",
   "execution_count": 4,
   "metadata": {},
   "outputs": [],
   "source": [
    "def save_current_session(book: str, chapter: str, completed_books: list[str], path=PREPROCESSING_SESSIONS_PATH, lang: int = LANG):\n",
    "\n",
    "    session = {\n",
    "        \"last_book\": book,\n",
    "        \"last_chapter\": chapter,\n",
    "        \"completed_books\": completed_books\n",
    "    }\n",
    "    update_json_file(session, path, dict)\n",
    "\n",
    "\n",
    "def load_last_session(lang: int = LANG, path: str = PREPROCESSING_SESSIONS_PATH):\n",
    "    default_session = {\n",
    "        \"last_book\": '',\n",
    "        \"last_chapter\": '',\n",
    "        \"completed_books\": []\n",
    "    }\n",
    "    if not os.path.exists(path):\n",
    "        with open(path, 'w', encoding='utf-8') as sessions_file:\n",
    "            json.dump({lang: default_session}, sessions_file, indent=4)\n",
    "        return default_session\n",
    "\n",
    "    with open(path, 'r', encoding='utf-8') as sessions_file:\n",
    "        sessions = json.load(sessions_file)\n",
    "        try:\n",
    "            return sessions[f'{lang}']\n",
    "        except KeyError:\n",
    "            return default_session\n",
    "\n",
    "\n",
    "def load_scrapped_books(lang: str = LANG):\n",
    "    last_scraping_session = load_last_session(path=SCRAPING_SESSIONS_PATH)\n",
    "    books = last_scraping_session['completed_books']\n",
    "    if len(books) == 0:\n",
    "        print(\"Aucun livre à priorit disponible pour cette langue, veuillez lancer le script de scraping pour cela avant de revenir au preprocessing\")\n",
    "        exit()\n",
    "    return books\n",
    "\n",
    "\n",
    "\n",
    "def load_all_chapters(lang:str=LANG):\n",
    "    with open(CHAPTERS_FILE_PATH, 'r', encoding='utf-8') as chapters_file:\n",
    "        lang_chapters = json.load(chapters_file)\n",
    "        \n",
    "    return lang_chapters\n",
    "    \n",
    "def json_print(message, json_doc):\n",
    "    print(message)\n",
    "    print(json.dumps(json_doc, indent=4, separators=(',', ': ')))\n"
   ]
  },
  {
   "cell_type": "code",
   "execution_count": 9,
   "metadata": {},
   "outputs": [],
   "source": [
    "# loading all scrapped books, if there is no scrapped book, we will exit the application\n",
    "scraped_books = load_scrapped_books()\n",
    "# Loading all the chapters for each existing books of the lang\n",
    "books_chapters:dict[list] = load_all_chapters()\n",
    "# Loading the last preprocessing session\n",
    "last_session:list = load_last_session()\n"
   ]
  },
  {
   "attachments": {},
   "cell_type": "markdown",
   "metadata": {},
   "source": [
    "Now we can start "
   ]
  },
  {
   "cell_type": "code",
   "execution_count": 25,
   "metadata": {},
   "outputs": [],
   "source": [
    "# La chaine de transformations qu'on va operer sur nos textes\n",
    "def ponctuation_transformers(text:str)->str:\n",
    "    result = text\n",
    "    # Isoler les ponctuations\n",
    "    for punctuation in string.punctuation:\n",
    "        result = result.replace(punctuation, f' {punctuation} ')\n",
    "\n",
    "    # removing spaces before and after the text\n",
    "    result.strip()\n",
    "\n",
    "    # S'assurer que la phrase se termine par un point ou une ponctuation\n",
    "    if result[-1] not in punctuation:\n",
    "        result += ' .'\n",
    "    \n",
    "    # s'assurer qu'il n'y a pas des espaces collés\n",
    "    result = result.replace('  ', ' ')\n",
    "    return result\n",
    "# This will help to get and store metadata as:\n",
    "#   the len(number of words) of the longest string\n",
    "#   the words dictionary\n",
    "def words_transformers(text:str)->str:\n",
    "    pass\n",
    "    "
   ]
  },
  {
   "attachments": {},
   "cell_type": "markdown",
   "metadata": {},
   "source": [
    "### Application des transformers préalablement définis à tout le contenu\n",
    "------\n",
    "pour l'utiliser il suffit d'avoir des `transformers` (les fonctions qui traiterons nos données et aussi) la liste des chapitres par livres `books_chapter`, la liste des livres scrapés pour la langue `scraped_books` et enfin, la derniere session de mise en forme des données pour la langue courante.\n",
    "\n",
    "Il sera question de parcourir les fichiers des chapitres scrapés et à chaque ligne de chaque fichier, on appliquera le / les transformers passés en parametre puis on sauvegarde dans un nouveau fichier de sortie qui sera stocké  dans le repertoire `./preprocessed_data` selon la meme structuration que dans le dossier `./data`\n"
   ]
  },
  {
   "cell_type": "code",
   "execution_count": 10,
   "metadata": {},
   "outputs": [],
   "source": [
    "def apply_transformers(transformers:list[function], books_chapters:dict[list[str]], scraped_books:list['str'], last_session:dict):\n",
    "    # The last book of the previous session\n",
    "    last_book:str = last_session['last_book']\n",
    "    # The last chapter of the previous session\n",
    "    last_chapter:str = last_session['last_chapter']\n",
    "    # The list of the books that have alreaday been preproceeded \n",
    "\n",
    "    for book_name in books_chapters :\n",
    "        if book_name not in scraped_books or book_name in last_session['completed_books']:\n",
    "            continue\n",
    "\n",
    "        book: list = books_chapters[book_name]\n",
    "        book_folder_in = get_book_folder_path_for_lang(\n",
    "            book_name, root=DATA_IN_PATH)\n",
    "        book_folder_out = get_book_folder_path_for_lang(\n",
    "            book_name, root=DATA_OUT_PATH)\n",
    "        for chapter in book:\n",
    "            if book_name == last_book and book.index(chapter) <= book.index(last_chapter):\n",
    "                continue\n",
    "\n",
    "            if not os.path.isfile(f'{book_folder_in}/{chapter}.txt'):\n",
    "                update_json_file(\n",
    "                    file_path=NOT_SCRAPED_CHAPTERS, type=dict[list])\n",
    "                print(\n",
    "                    f'The chapter {chapter} has not been scrapped, it will be added in journal')\n",
    "                continue\n",
    "\n",
    "            # Now we can open both scraping chapter file (input file) and transfromed text (output) and do the job\n",
    "            with open(f'{book_folder_in}/{chapter}.txt', 'r', encoding='utf-8') as input_file, open(f'{book_folder_out}/{chapter}.txt', 'w', encoding='utf-8') as output_file:\n",
    "                for line in input_file.readlines:\n",
    "                    txt = line\n",
    "                    for transformer in transformers:\n",
    "                        txt = transformer(txt)\n",
    "                    output_file.write(txt+'\\n')\n"
   ]
  }
 ],
 "metadata": {
  "kernelspec": {
   "display_name": "venv",
   "language": "python",
   "name": "python3"
  },
  "language_info": {
   "codemirror_mode": {
    "name": "ipython",
    "version": 3
   },
   "file_extension": ".py",
   "mimetype": "text/x-python",
   "name": "python",
   "nbconvert_exporter": "python",
   "pygments_lexer": "ipython3",
   "version": "3.9.13"
  },
  "orig_nbformat": 4,
  "vscode": {
   "interpreter": {
    "hash": "9e9ebd3ff607729a7cbb3fb982ffff5cbd5fec53b6fd8f66a267c1cebcfbfd48"
   }
  }
 },
 "nbformat": 4,
 "nbformat_minor": 2
}
