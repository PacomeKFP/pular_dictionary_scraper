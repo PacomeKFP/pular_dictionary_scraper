{
 "cells": [
  {
   "attachments": {},
   "cell_type": "markdown",
   "metadata": {},
   "source": [
    "> `Text preprocessing script`\n",
    "> ===\n"
   ]
  },
  {
   "attachments": {},
   "cell_type": "markdown",
   "metadata": {},
   "source": [
    "Importing packages for it\n"
   ]
  },
  {
   "cell_type": "code",
   "execution_count": 2,
   "metadata": {},
   "outputs": [],
   "source": [
    "import string\n",
    "import os\n",
    "import json"
   ]
  },
  {
   "attachments": {},
   "cell_type": "markdown",
   "metadata": {},
   "source": [
    ">## Etapes que nous suivrons \n",
    ">- Choisir une langue pour la quelle nous souhaitons netoyer les données\n",
    ">- Charger les ID de chapitres et livres de cette langue\n",
    ">- parcourir les dossiers des livres et ouvrir les dossiers de chaque livre et les preprocess\n",
    ">-  ..."
   ]
  },
  {
   "attachments": {},
   "cell_type": "markdown",
   "metadata": {},
   "source": [
    "Defining constants of the script\n"
   ]
  },
  {
   "cell_type": "code",
   "execution_count": 3,
   "metadata": {},
   "outputs": [],
   "source": [
    "LANG = 63\n",
    "# root folder for not processed data\n",
    "DATA_IN_PATH = os.path.join(os.getcwd(), f'data/{LANG}')\n",
    "\n",
    "# root folder for processed data\n",
    "DATA_OUT_PATH = os.path.join(os.getcwd(), f'preprocessed_data/{LANG}')\n",
    "if not os.path.exists(DATA_OUT_PATH):\n",
    "    os.makedirs(DATA_OUT_PATH)\n",
    "\n",
    "# Sessions path\n",
    "PREPROCESSING_SESSIONS_PATH = os.path.join(os.getcwd(),'preprocessing_sessions.json')\n",
    "if not os.path.isfile(PREPROCESSING_SESSIONS_PATH):\n",
    "    with open(PREPROCESSING_SESSIONS_PATH, 'w', encoding='utf-8') as sessions_file:\n",
    "        sessions_file.write('{}')\n",
    "\n",
    "SCRAPING_SESSIONS_PATH = os.path.join(os.getcwd(),'sessions.json')\n",
    "CHAPTERS_FILE_PATH = os.path.join(os.getcwd(), f'utils/chapitres_id/{LANG}.json')\n",
    "\n"
   ]
  },
  {
   "attachments": {},
   "cell_type": "markdown",
   "metadata": {},
   "source": [
    "Defining functions tools"
   ]
  },
  {
   "cell_type": "code",
   "execution_count": 4,
   "metadata": {},
   "outputs": [],
   "source": [
    "\n",
    "# dossier dans lequel on va mettre les dossiers chaque chapitre pour cette langue\n",
    "def get_lang_folder_path(lang: int = LANG) -> str:\n",
    "    path = os.path.join(os.getcwd(), f\"preprocessed_data/{lang}\")\n",
    "    if not os.path.exists(path):\n",
    "        os.makedirs(path)\n",
    "    return path\n",
    "\n",
    "\n",
    "# dossier dans lequel on va mettre les fichiers txt pour chaqe chap du livre livre\n",
    "def get_book_folder_path_for_lang(book: str, lang: int = LANG) -> str:\n",
    "    path = os.path.join(os.getcwd(), f\"preprocessed_data/{lang}/{book}\").replace('\\\\', '/')\n",
    "    if not os.path.exists(path):\n",
    "        print(f'Path to saves folder created : {path} ')\n",
    "        os.makedirs(path)\n",
    "    return path\n",
    "\n",
    "\n",
    "def update_json_file(data,  file_path: str, type: type = list, lang: int = LANG):\n",
    "    path = os.path.join(os.getcwd(), file_path)\n",
    "    # initializing the file if not exists\n",
    "    if not os.path.exists(path):\n",
    "        with open(path, 'w', encoding='utf-8') as file:\n",
    "            file.write('[]') if type == list else file.write('{}')\n",
    "    # getting the data in the file and updating it\n",
    "    with open(path, 'r+', encoding='utf-8') as file:\n",
    "        file_data = json.load(file)\n",
    "        if type == list:  # si nous sommes dans un liste\n",
    "            file_data.append(data)\n",
    "        else:  # si c'est un dictionnaire plutot\n",
    "            file_data[f'{lang}'] = data\n",
    "    # write the final data in the file\n",
    "    with open(path, 'w', encoding='utf-8') as file:     \n",
    "        json.dump(file_data, file, indent=4)"
   ]
  },
  {
   "cell_type": "code",
   "execution_count": 5,
   "metadata": {},
   "outputs": [],
   "source": [
    "def save_current_session(book: str, chapter: str, completed_books: list[str], path=PREPROCESSING_SESSIONS_PATH, lang: int = LANG):\n",
    "\n",
    "    session = {\n",
    "        \"last_book\": book,\n",
    "        \"last_chapter\": chapter,\n",
    "        \"completed_books\": completed_books\n",
    "    }\n",
    "    update_json_file(session, path, dict)\n",
    "\n",
    "\n",
    "def load_last_session(lang: int = LANG, path: str = PREPROCESSING_SESSIONS_PATH):\n",
    "    default_session = {\n",
    "        \"last_book\": '',\n",
    "        \"last_chapter\": '',\n",
    "        \"completed_books\": []\n",
    "    }\n",
    "    if not os.path.exists(path):\n",
    "        with open(path, 'w', encoding='utf-8') as sessions_file:\n",
    "            json.dump({lang: default_session}, sessions_file, indent=4)\n",
    "        return default_session\n",
    "\n",
    "    with open(path, 'r', encoding='utf-8') as sessions_file:\n",
    "        sessions = json.load(sessions_file)\n",
    "        try:\n",
    "            return sessions[f'{lang}']\n",
    "        except KeyError:\n",
    "            return default_session\n",
    "\n",
    "\n",
    "def load_scrapped_books(lang: str = LANG):\n",
    "    last_scraping_session = load_last_session(path=SCRAPING_SESSIONS_PATH)\n",
    "    books = last_scraping_session['completed_books']\n",
    "    if len(books) == 0:\n",
    "        print(\"Aucun livre à priorit disponible pour cette langue, veuillez lancer le script de scraping pour cela avant de revenir au preprocessing\")\n",
    "        exit()\n",
    "    return books\n",
    "\n",
    "\n",
    "\n",
    "def load_all_chapters(lang:str=LANG):\n",
    "    with open(CHAPTERS_FILE_PATH, 'r', encoding='utf-8') as chapters_file:\n",
    "        lang_chapters = json.load(chapters_file)\n",
    "        \n",
    "    return lang_chapters\n",
    "    \n",
    "def json_print(message, json_doc):\n",
    "    print(message)\n",
    "    print(json.dumps(json_doc, indent=4, separators=(',', ': ')))\n"
   ]
  },
  {
   "cell_type": "code",
   "execution_count": 7,
   "metadata": {},
   "outputs": [],
   "source": [
    "# loading all scrapped books, if there is no scrapped book, we will exit the application\n",
    "scraped_books = load_scrapped_books()\n",
    "# Loading all the chapters for each existing books of the lang\n",
    "books_chapters = load_all_chapters()\n",
    "# Loading the last preprocessing session\n",
    "last_session = load_last_session()\n",
    "# Defining the list of the not preproceeded books but scraped\n",
    "books_to_preprocess = list(set(scraped_books) - set(last_session['completed_books']))\n",
    "\n",
    "have_to_complete_a_book = last_session['last_book'] != '' and last_session['last_book'] not in last_session['completed_books']\n",
    "\n",
    "#  Ensure starting the session with the last books (if not completed) in preprocessing\n",
    "if have_to_complete_a_book:\n",
    "    last_book = last_session['last_book']\n",
    "    books_to_preprocess.remove(last_book)\n",
    "    books_to_preprocess = [last_book]+books_to_preprocess\n",
    "\n",
    "# current chapter\n",
    "\n"
   ]
  },
  {
   "attachments": {},
   "cell_type": "markdown",
   "metadata": {},
   "source": [
    "Now we can start "
   ]
  }
 ],
 "metadata": {
  "kernelspec": {
   "display_name": "venv",
   "language": "python",
   "name": "python3"
  },
  "language_info": {
   "codemirror_mode": {
    "name": "ipython",
    "version": 3
   },
   "file_extension": ".py",
   "mimetype": "text/x-python",
   "name": "python",
   "nbconvert_exporter": "python",
   "pygments_lexer": "ipython3",
   "version": "3.9.13"
  },
  "orig_nbformat": 4,
  "vscode": {
   "interpreter": {
    "hash": "9e9ebd3ff607729a7cbb3fb982ffff5cbd5fec53b6fd8f66a267c1cebcfbfd48"
   }
  }
 },
 "nbformat": 4,
 "nbformat_minor": 2
}
